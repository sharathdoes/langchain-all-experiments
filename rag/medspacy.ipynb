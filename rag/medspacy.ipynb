{
 "cells": [
  {
   "cell_type": "code",
   "execution_count": null,
   "metadata": {},
   "outputs": [],
   "source": []
  },
  {
   "cell_type": "code",
   "execution_count": 3,
   "metadata": {},
   "outputs": [
    {
     "name": "stderr",
     "output_type": "stream",
     "text": [
      "Downloading https://raw.githubusercontent.com/stanfordnlp/stanza-resources/main/resources_1.9.0.json: 392kB [00:00, 37.2MB/s]                    \n",
      "2024-11-14 16:33:47 INFO: Downloaded file to C:\\Users\\shara\\stanza_resources\\resources.json\n",
      "2024-11-14 16:33:47 WARNING: Can not find ner: mimic from official model list. Ignoring it.\n",
      "2024-11-14 16:33:47 INFO: Downloading these customized packages for language: en (English)...\n",
      "=======================\n",
      "| Processor | Package |\n",
      "-----------------------\n",
      "| tokenize  | mimic   |\n",
      "=======================\n",
      "\n",
      "2024-11-14 16:33:47 INFO: File exists: C:\\Users\\shara\\stanza_resources\\en\\tokenize\\mimic.pt\n",
      "2024-11-14 16:33:47 INFO: Finished downloading models and saved to C:\\Users\\shara\\stanza_resources\n",
      "2024-11-14 16:33:47 INFO: Checking for updates to resources.json in case models have been updated.  Note: this behavior can be turned off with download_method=None or download_method=DownloadMethod.REUSE_RESOURCES\n",
      "Downloading https://raw.githubusercontent.com/stanfordnlp/stanza-resources/main/resources_1.9.0.json: 392kB [00:00, 31.1MB/s]                    \n",
      "2024-11-14 16:33:47 INFO: Downloaded file to C:\\Users\\shara\\stanza_resources\\resources.json\n",
      "2024-11-14 16:33:47 WARNING: Can not find ner: mimic from official model list. Ignoring it.\n",
      "2024-11-14 16:33:47 INFO: Loading these models for language: en (English):\n",
      "=======================\n",
      "| Processor | Package |\n",
      "-----------------------\n",
      "| tokenize  | mimic   |\n",
      "=======================\n",
      "\n",
      "2024-11-14 16:33:47 INFO: Using device: cpu\n",
      "2024-11-14 16:33:47 INFO: Loading: tokenize\n",
      "2024-11-14 16:33:47 INFO: Done loading processors!\n"
     ]
    }
   ],
   "source": [
    "import stanza\n",
    "\n",
    "def setup_medical_nlp():\n",
    "    \"\"\"Setup Stanza pipeline for medical NER\"\"\"\n",
    "    stanza.download('en', package='mimic', processors='tokenize,ner')\n",
    "    return stanza.Pipeline('en', package='mimic', processors='tokenize,ner')\n",
    "\n",
    "def print_entity_names(text: str):\n",
    "    \"\"\"Print only entity names from text\"\"\"\n",
    "    nlp = setup_medical_nlp()\n",
    "    doc = nlp(text)\n",
    "    \n",
    "    # Print only entity names\n",
    "    for sent in doc.sentences:\n",
    "        for ent in sent.ents:\n",
    "            print(ent.text)\n",
    "\n",
    "# Example usage\n",
    "if __name__ == \"__main__\":\n",
    "    text = \"I have a headache and fever.\"\n",
    "    print_entity_names(text)"
   ]
  },
  {
   "cell_type": "code",
   "execution_count": 4,
   "metadata": {},
   "outputs": [
    {
     "name": "stderr",
     "output_type": "stream",
     "text": [
      "Downloading https://raw.githubusercontent.com/stanfordnlp/stanza-resources/main/resources_1.9.0.json: 392kB [00:00, 24.4MB/s]                    \n",
      "2024-11-14 16:33:59 INFO: Downloaded file to C:\\Users\\shara\\stanza_resources\\resources.json\n",
      "2024-11-14 16:33:59 WARNING: Can not find ner: mimic from official model list. Ignoring it.\n",
      "2024-11-14 16:33:59 INFO: Downloading these customized packages for language: en (English)...\n",
      "=======================\n",
      "| Processor | Package |\n",
      "-----------------------\n",
      "| tokenize  | mimic   |\n",
      "=======================\n",
      "\n",
      "2024-11-14 16:33:59 INFO: File exists: C:\\Users\\shara\\stanza_resources\\en\\tokenize\\mimic.pt\n",
      "2024-11-14 16:33:59 INFO: Finished downloading models and saved to C:\\Users\\shara\\stanza_resources\n",
      "2024-11-14 16:33:59 INFO: Checking for updates to resources.json in case models have been updated.  Note: this behavior can be turned off with download_method=None or download_method=DownloadMethod.REUSE_RESOURCES\n",
      "Downloading https://raw.githubusercontent.com/stanfordnlp/stanza-resources/main/resources_1.9.0.json: 392kB [00:00, 21.6MB/s]                    \n",
      "2024-11-14 16:33:59 INFO: Downloaded file to C:\\Users\\shara\\stanza_resources\\resources.json\n",
      "2024-11-14 16:33:59 WARNING: Can not find ner: mimic from official model list. Ignoring it.\n",
      "2024-11-14 16:33:59 INFO: Loading these models for language: en (English):\n",
      "=======================\n",
      "| Processor | Package |\n",
      "-----------------------\n",
      "| tokenize  | mimic   |\n",
      "=======================\n",
      "\n",
      "2024-11-14 16:33:59 INFO: Using device: cpu\n",
      "2024-11-14 16:33:59 INFO: Loading: tokenize\n",
      "2024-11-14 16:33:59 INFO: Done loading processors!\n"
     ]
    }
   ],
   "source": [
    "text = \"I have a headache and fever.\"\n",
    "print_entity_names(text)"
   ]
  },
  {
   "cell_type": "code",
   "execution_count": null,
   "metadata": {},
   "outputs": [],
   "source": []
  },
  {
   "cell_type": "code",
   "execution_count": null,
   "metadata": {},
   "outputs": [],
   "source": []
  }
 ],
 "metadata": {
  "kernelspec": {
   "display_name": "Python 3",
   "language": "python",
   "name": "python3"
  },
  "language_info": {
   "codemirror_mode": {
    "name": "ipython",
    "version": 3
   },
   "file_extension": ".py",
   "mimetype": "text/x-python",
   "name": "python",
   "nbconvert_exporter": "python",
   "pygments_lexer": "ipython3",
   "version": "3.10.0"
  }
 },
 "nbformat": 4,
 "nbformat_minor": 2
}
